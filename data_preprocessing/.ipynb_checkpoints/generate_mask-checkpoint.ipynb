{
 "cells": [
  {
   "cell_type": "code",
   "execution_count": 1,
   "metadata": {},
   "outputs": [],
   "source": [
    "import nibabel as nib\n",
    "import numpy as np\n",
    "import SimpleITK as sitk\n",
    "import os"
   ]
  },
  {
   "cell_type": "code",
   "execution_count": 2,
   "metadata": {},
   "outputs": [],
   "source": [
    "root_path = '/home/ecust/hjy/Second_paper/dataset/Brats2018/MICCAI_BraTS_2018_Data_Validation/'"
   ]
  },
  {
   "cell_type": "code",
   "execution_count": 3,
   "metadata": {},
   "outputs": [],
   "source": [
    "def generate_mask(path):\n",
    "    data_list = os.listdir(path)\n",
    "    data_list.remove('survival_evaluation.csv')\n",
    "    print(data_list)\n",
    "    for patient in data_list:\n",
    "        images0 = nib.load(path + '/' + patient + '/' + patient + '_flair.nii.gz').get_data()\n",
    "        images0 = np.expand_dims(images0, axis=0)\n",
    "\n",
    "        images1 = nib.load(path + '/' + patient + '/' + patient + '_t1.nii.gz').get_data()\n",
    "        images1 = np.expand_dims(images1, axis=0)\n",
    "\n",
    "        images2 = nib.load(path + '/' + patient + '/' + patient + '_t1ce.nii.gz').get_data()\n",
    "        images2 = np.expand_dims(images2, axis=0)\n",
    "        \n",
    "        images3 = nib.load(path + '/' + patient + '/' + patient + '_t2.nii.gz').get_data()\n",
    "        images3 = np.expand_dims(images3, axis=0)\n",
    "        \n",
    "        images = np.concatenate((images0, images1, images2, images3), axis=0)\n",
    "    \n",
    "        image = np.max(images, axis=0)\n",
    "        image = np.swapaxes(image, 0, 2)\n",
    "        image[image>0] =1\n",
    "        image = image.astype(dtype=np.uint8)\n",
    "        image = sitk.GetImageFromArray(image)\n",
    "        sitk.WriteImage(image, path + '/' + patient + '/' + patient + \"_mask.nii.gz\")\n",
    "        print(patient)"
   ]
  },
  {
   "cell_type": "code",
   "execution_count": 4,
   "metadata": {},
   "outputs": [
    {
     "name": "stdout",
     "output_type": "stream",
     "text": [
      "['survival_evaluation.csv', 'Brats18_CBICA_APM_1', 'Brats18_TCIA13_638_1', 'Brats18_TCIA10_609_1', 'Brats18_TCIA03_313_1', 'Brats18_TCIA09_248_1', 'Brats18_TCIA10_195_1', 'Brats18_MDA_907_1', 'Brats18_MDA_1015_1', 'Brats18_TCIA13_617_1', 'Brats18_TCIA03_216_1', 'Brats18_CBICA_BLI_1', 'Brats18_UAB_3446_1', 'Brats18_TCIA03_604_1', 'Brats18_TCIA03_288_1', 'Brats18_TCIA12_613_1', 'Brats18_WashU_W038_1', 'Brats18_CBICA_ARR_1', 'Brats18_CBICA_AMF_1', 'Brats18_TCIA13_610_1', 'Brats18_MDA_1012_1', 'Brats18_MDA_1081_1', 'Brats18_CBICA_BHF_1', 'Brats18_TCIA07_601_1', 'Brats18_WashU_W053_1', 'Brats18_UAB_3449_1', 'Brats18_UAB_3498_1', 'Brats18_MDA_922_1', 'Brats18_UAB_3454_1', 'Brats18_TCIA13_636_1', 'Brats18_CBICA_ANK_1', 'Brats18_CBICA_AUE_1', 'Brats18_TCIA13_611_1', 'Brats18_UAB_3455_1', 'Brats18_CBICA_ALZ_1', 'Brats18_UAB_3499_1', 'Brats18_CBICA_BHN_1', 'Brats18_CBICA_ATW_1', 'Brats18_CBICA_BLK_1', 'Brats18_CBICA_AUC_1', 'Brats18_TCIA13_646_1', 'Brats18_WashU_S036_1', 'Brats18_CBICA_AMU_1', 'Brats18_WashU_S041_1', 'Brats18_CBICA_ALT_1', 'Brats18_TCIA04_253_1', 'Brats18_UAB_3456_1', 'Brats18_TCIA07_600_1', 'Brats18_CBICA_BKY_1', 'Brats18_TCIA10_311_1', 'Brats18_TCIA13_652_1', 'Brats18_CBICA_ALV_1', 'Brats18_CBICA_AAM_1', 'Brats18_UAB_3490_1', 'Brats18_TCIA02_230_1', 'Brats18_CBICA_ABT_1', 'Brats18_TCIA02_400_1', 'Brats18_WashU_W047_1', 'Brats18_CBICA_AQE_1', 'Brats18_TCIA04_212_1', 'Brats18_UAB_3448_1', 'Brats18_TCIA11_612_1', 'Brats18_WashU_S037_1', 'Brats18_TCIA07_602_1', 'Brats18_CBICA_AZA_1', 'Brats18_CBICA_ALA_1', 'Brats18_WashU_W033_1']\n"
     ]
    },
    {
     "ename": "FileNotFoundError",
     "evalue": "No such file or no access: '/home/ecust/hjy/Second_paper/dataset/Brats2018/MICCAI_BraTS_2018_Data_Validation//survival_evaluation.csv/survival_evaluation.csv_flair.nii.gz'",
     "output_type": "error",
     "traceback": [
      "\u001b[0;31m---------------------------------------------------------------------------\u001b[0m",
      "\u001b[0;31mNotADirectoryError\u001b[0m                        Traceback (most recent call last)",
      "\u001b[0;32m~/anaconda3/envs/Autofocus/lib/python3.6/site-packages/nibabel/loadsave.py\u001b[0m in \u001b[0;36mload\u001b[0;34m(filename, **kwargs)\u001b[0m\n\u001b[1;32m     39\u001b[0m     \u001b[0;32mtry\u001b[0m\u001b[0;34m:\u001b[0m\u001b[0;34m\u001b[0m\u001b[0m\n\u001b[0;32m---> 40\u001b[0;31m         \u001b[0mstat_result\u001b[0m \u001b[0;34m=\u001b[0m \u001b[0mos\u001b[0m\u001b[0;34m.\u001b[0m\u001b[0mstat\u001b[0m\u001b[0;34m(\u001b[0m\u001b[0mfilename\u001b[0m\u001b[0;34m)\u001b[0m\u001b[0;34m\u001b[0m\u001b[0m\n\u001b[0m\u001b[1;32m     41\u001b[0m     \u001b[0;32mexcept\u001b[0m \u001b[0mOSError\u001b[0m\u001b[0;34m:\u001b[0m\u001b[0;34m\u001b[0m\u001b[0m\n",
      "\u001b[0;31mNotADirectoryError\u001b[0m: [Errno 20] Not a directory: '/home/ecust/hjy/Second_paper/dataset/Brats2018/MICCAI_BraTS_2018_Data_Validation//survival_evaluation.csv/survival_evaluation.csv_flair.nii.gz'",
      "\nDuring handling of the above exception, another exception occurred:\n",
      "\u001b[0;31mFileNotFoundError\u001b[0m                         Traceback (most recent call last)",
      "\u001b[0;32m<ipython-input-4-184b512e78a1>\u001b[0m in \u001b[0;36m<module>\u001b[0;34m\u001b[0m\n\u001b[1;32m      3\u001b[0m \u001b[0;34m\u001b[0m\u001b[0m\n\u001b[1;32m      4\u001b[0m \u001b[0;34m\u001b[0m\u001b[0m\n\u001b[0;32m----> 5\u001b[0;31m \u001b[0mgenerate_mask\u001b[0m\u001b[0;34m(\u001b[0m\u001b[0mroot_path\u001b[0m\u001b[0;34m)\u001b[0m\u001b[0;34m\u001b[0m\u001b[0m\n\u001b[0m",
      "\u001b[0;32m<ipython-input-3-bd1de31d0de9>\u001b[0m in \u001b[0;36mgenerate_mask\u001b[0;34m(path)\u001b[0m\n\u001b[1;32m      3\u001b[0m     \u001b[0mprint\u001b[0m\u001b[0;34m(\u001b[0m\u001b[0mdata_list\u001b[0m\u001b[0;34m)\u001b[0m\u001b[0;34m\u001b[0m\u001b[0m\n\u001b[1;32m      4\u001b[0m     \u001b[0;32mfor\u001b[0m \u001b[0mpatient\u001b[0m \u001b[0;32min\u001b[0m \u001b[0mdata_list\u001b[0m\u001b[0;34m:\u001b[0m\u001b[0;34m\u001b[0m\u001b[0m\n\u001b[0;32m----> 5\u001b[0;31m         \u001b[0mimages0\u001b[0m \u001b[0;34m=\u001b[0m \u001b[0mnib\u001b[0m\u001b[0;34m.\u001b[0m\u001b[0mload\u001b[0m\u001b[0;34m(\u001b[0m\u001b[0mpath\u001b[0m \u001b[0;34m+\u001b[0m \u001b[0;34m'/'\u001b[0m \u001b[0;34m+\u001b[0m \u001b[0mpatient\u001b[0m \u001b[0;34m+\u001b[0m \u001b[0;34m'/'\u001b[0m \u001b[0;34m+\u001b[0m \u001b[0mpatient\u001b[0m \u001b[0;34m+\u001b[0m \u001b[0;34m'_flair.nii.gz'\u001b[0m\u001b[0;34m)\u001b[0m\u001b[0;34m.\u001b[0m\u001b[0mget_data\u001b[0m\u001b[0;34m(\u001b[0m\u001b[0;34m)\u001b[0m\u001b[0;34m\u001b[0m\u001b[0m\n\u001b[0m\u001b[1;32m      6\u001b[0m         \u001b[0mimages0\u001b[0m \u001b[0;34m=\u001b[0m \u001b[0mnp\u001b[0m\u001b[0;34m.\u001b[0m\u001b[0mexpand_dims\u001b[0m\u001b[0;34m(\u001b[0m\u001b[0mimages0\u001b[0m\u001b[0;34m,\u001b[0m \u001b[0maxis\u001b[0m\u001b[0;34m=\u001b[0m\u001b[0;36m0\u001b[0m\u001b[0;34m)\u001b[0m\u001b[0;34m\u001b[0m\u001b[0m\n\u001b[1;32m      7\u001b[0m \u001b[0;34m\u001b[0m\u001b[0m\n",
      "\u001b[0;32m~/anaconda3/envs/Autofocus/lib/python3.6/site-packages/nibabel/loadsave.py\u001b[0m in \u001b[0;36mload\u001b[0;34m(filename, **kwargs)\u001b[0m\n\u001b[1;32m     40\u001b[0m         \u001b[0mstat_result\u001b[0m \u001b[0;34m=\u001b[0m \u001b[0mos\u001b[0m\u001b[0;34m.\u001b[0m\u001b[0mstat\u001b[0m\u001b[0;34m(\u001b[0m\u001b[0mfilename\u001b[0m\u001b[0;34m)\u001b[0m\u001b[0;34m\u001b[0m\u001b[0m\n\u001b[1;32m     41\u001b[0m     \u001b[0;32mexcept\u001b[0m \u001b[0mOSError\u001b[0m\u001b[0;34m:\u001b[0m\u001b[0;34m\u001b[0m\u001b[0m\n\u001b[0;32m---> 42\u001b[0;31m         \u001b[0;32mraise\u001b[0m \u001b[0mFileNotFoundError\u001b[0m\u001b[0;34m(\u001b[0m\u001b[0;34m\"No such file or no access: '%s'\"\u001b[0m \u001b[0;34m%\u001b[0m \u001b[0mfilename\u001b[0m\u001b[0;34m)\u001b[0m\u001b[0;34m\u001b[0m\u001b[0m\n\u001b[0m\u001b[1;32m     43\u001b[0m     \u001b[0;32mif\u001b[0m \u001b[0mstat_result\u001b[0m\u001b[0;34m.\u001b[0m\u001b[0mst_size\u001b[0m \u001b[0;34m<=\u001b[0m \u001b[0;36m0\u001b[0m\u001b[0;34m:\u001b[0m\u001b[0;34m\u001b[0m\u001b[0m\n\u001b[1;32m     44\u001b[0m         \u001b[0;32mraise\u001b[0m \u001b[0mImageFileError\u001b[0m\u001b[0;34m(\u001b[0m\u001b[0;34m\"Empty file: '%s'\"\u001b[0m \u001b[0;34m%\u001b[0m \u001b[0mfilename\u001b[0m\u001b[0;34m)\u001b[0m\u001b[0;34m\u001b[0m\u001b[0m\n",
      "\u001b[0;31mFileNotFoundError\u001b[0m: No such file or no access: '/home/ecust/hjy/Second_paper/dataset/Brats2018/MICCAI_BraTS_2018_Data_Validation//survival_evaluation.csv/survival_evaluation.csv_flair.nii.gz'"
     ]
    }
   ],
   "source": [
    "# generate_mask(root_path + 'HGG')\n",
    "# generate_mask(root_path + 'LGG')\n",
    "\n",
    "\n",
    "generate_mask(root_path)"
   ]
  },
  {
   "cell_type": "code",
   "execution_count": null,
   "metadata": {},
   "outputs": [],
   "source": []
  }
 ],
 "metadata": {
  "kernelspec": {
   "display_name": "Python 3",
   "language": "python",
   "name": "python3"
  },
  "language_info": {
   "codemirror_mode": {
    "name": "ipython",
    "version": 3
   },
   "file_extension": ".py",
   "mimetype": "text/x-python",
   "name": "python",
   "nbconvert_exporter": "python",
   "pygments_lexer": "ipython3",
   "version": "3.6.3"
  }
 },
 "nbformat": 4,
 "nbformat_minor": 2
}
