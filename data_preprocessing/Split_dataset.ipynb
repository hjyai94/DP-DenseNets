{
 "cells": [
  {
   "cell_type": "code",
   "execution_count": 1,
   "metadata": {},
   "outputs": [],
   "source": [
    "import os\n",
    "from sklearn.model_selection import StratifiedKFold\n",
    "import numpy as np"
   ]
  },
  {
   "cell_type": "code",
   "execution_count": 2,
   "metadata": {},
   "outputs": [],
   "source": [
    "root = '/home/ecust/hjy/Second_paper/dataset/Brats2018/MICCAI_BraTS_2018_Data_Training'\n",
    "test_data_dir = '/home/ecust/hjy/Second_paper/dataset/Brats2018/MICCAI_BraTS_2018_Data_Validation/'"
   ]
  },
  {
   "cell_type": "code",
   "execution_count": 3,
   "metadata": {},
   "outputs": [],
   "source": [
    "def write(data, fname, root=root):\n",
    "    fname = os.path.join(root, fname)\n",
    "    with open(fname, 'w') as f:\n",
    "        f.write('\\n'.join(data))"
   ]
  },
  {
   "cell_type": "code",
   "execution_count": 4,
   "metadata": {},
   "outputs": [],
   "source": [
    "hgg = os.listdir(os.path.join(root, 'HGG'))\n",
    "hgg = [os.path.join('HGG', f) for f in hgg]\n",
    "\n",
    "lgg = os.listdir(os.path.join(root, 'LGG'))\n",
    "lgg = [os.path.join('LGG', f) for f in lgg]\n",
    "\n",
    "X = hgg + lgg\n",
    "Y = [1]*len(hgg) + [0]*len(lgg)\n",
    "\n",
    "write(X, '/home/ecust/hjy/Second_paper/datalist/all.txt')"
   ]
  },
  {
   "cell_type": "code",
   "execution_count": 5,
   "metadata": {},
   "outputs": [],
   "source": [
    "X, Y = np.array(X), np.array(Y)\n",
    "\n",
    "skf = StratifiedKFold(n_splits=5, shuffle=True, random_state=2018)\n",
    "\n",
    "for k, (train_index, valid_index) in enumerate(skf.split(Y, Y)):\n",
    "    train_list = list(X[train_index])\n",
    "    valid_list = list(X[valid_index])\n",
    "\n",
    "    write(train_list, '/home/ecust/hjy/Second_paper/datalist/train_{}.txt'.format(k))\n",
    "    write(valid_list, '/home/ecust/hjy/Second_paper/datalist/valid_{}.txt'.format(k))\n",
    "\n",
    "\n",
    "test = os.listdir(os.path.join(test_data_dir))\n",
    "test = [f for f in test if not (f.endswith('.csv') or f.endswith('.txt'))]\n",
    "write(test, '/home/ecust/hjy/Second_paper/datalist/test.txt', root=test_data_dir)"
   ]
  }
 ],
 "metadata": {
  "kernelspec": {
   "display_name": "Python 3",
   "language": "python",
   "name": "python3"
  },
  "language_info": {
   "codemirror_mode": {
    "name": "ipython",
    "version": 3
   },
   "file_extension": ".py",
   "mimetype": "text/x-python",
   "name": "python",
   "nbconvert_exporter": "python",
   "pygments_lexer": "ipython3",
   "version": "3.6.3"
  }
 },
 "nbformat": 4,
 "nbformat_minor": 2
}
